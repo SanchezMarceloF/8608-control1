{
 "cells": [
  {
   "attachments": {},
   "cell_type": "markdown",
   "id": "5ff614ec",
   "metadata": {},
   "source": [
    "# Pregunta 1\n",
    "---\n",
    "### Cuando ejecuta run en simulink , indique que grafica se ve en el scope\n",
    "![ejercicio1-1.png](./images/ejercicio1-1.png)"
   ]
  },
  {
   "cell_type": "code",
   "execution_count": 12,
   "id": "8d01bf7e",
   "metadata": {},
   "outputs": [
    {
     "data": {
      "image/png": "[encoded data removed]",
      "text/plain": [
       "<IPython.core.display.Image object>"
      ]
     },
     "metadata": {},
     "output_type": "display_data"
    }
   ],
   "source": [
    "pkg load control\n",
    "s = tf('s');\n",
    "% Función transferencia\n",
    "transferFunc = 1/(s^2+1);\n",
    "% Gráfica de respuesta al escalón\n",
    "step (transferFunc)\n"
   ]
  },
  {
   "cell_type": "markdown",
   "id": "bb23ac43",
   "metadata": {},
   "source": [
    "La respuesta correcta es la C."
   ]
  },
  {
   "cell_type": "markdown",
   "id": "a8a50701",
   "metadata": {},
   "source": [
    "# Pregunta 2\n",
    "---\n",
    "### Un circuito R L serie , ambos unitarios , es excitado por un escalón de tensión unitario. Se sabe que en 0+ la corriente es yo. El modelo eléctrico es descripto por la ecuación diferencial mostrada donde y(t) es la corriente\n",
    "$$ \\dot{y(t)} + y(t) = 1 (t), \\quad \\quad  y(0+) = y_0 $$\n",
    "\n",
    "### Indique que $y(t)$ resuelve la ecuación diferencial:\n",
    "\n",
    "1. [ ] $y(t) = 1 + (y_0 + 1) \\cdot \\exp(-t)$\n",
    "2. [x] $y(t) = 1 + (y_0 - 1) \\cdot \\exp(-t)$\n",
    "3. [ ] $y(t) = (y_0 - 1) \\cdot \\exp(-t)$\n",
    "4. [ ] $y(t) = (y_0 + 1) \\cdot \\exp(-t)$"
   ]
  },
  {
   "cell_type": "markdown",
   "id": "59437698",
   "metadata": {},
   "source": [
    "Para resolver este problema se puede aplicar Laplace, despejar $Y(s)$ y luego antitransformar. \n",
    "1. Aplico Laplace:\n",
    "    $$ \\mathcal{L} \\left\\{ \\dot{y(t)} + y(t) = 1 (t) \\right\\}$$\n",
    "    $$ s \\cdot Y(s) - y_0 + Y(s) = \\frac{1}{s} $$    "
   ]
  },
  {
   "cell_type": "markdown",
   "id": "f236348b",
   "metadata": {},
   "source": [
    "2. Despejo $Y(s)$:\n",
    "    $$ Y(s) \\cdot (s + 1) = \\frac{1}{s} + y_0 $$\n",
    "    $$ Y(s) = \\frac{1/s + y_0}{s + 1} $$\n",
    "    $$ Y(s) = \\frac{1}{s^2 + s} + \\frac{y_0}{s + 1} $$"
   ]
  },
  {
   "cell_type": "markdown",
   "id": "62a123b7",
   "metadata": {},
   "source": [
    "3. Antitransformo por residuos:\n",
    "\n",
    "- Llamo $Y1(s) = \\frac{1}{s^2 + s} = \\frac{1}{s \\cdot (s+1)}$\n",
    "    $$ \\left. Res \\, Y1(s) \\right|_{s=0} = \\lim\\limits_{s \\to 0} \\frac{1 \\cdot s}{s \\cdot (s+1)} = 1$$\n",
    "    $$ \\left. Res \\, Y1(s) \\right|_{s=1} = \\lim\\limits_{s \\to -1} \\frac{1 \\cdot (s+1)}{s \\cdot (s+1)} = -1$$\n",
    "    - Luego la antitransformada es:\n",
    "    $$ y1(t) = 1 \\cdot \\exp(0t) + (-)1 \\cdot \\exp(-1t) = 1 - \\exp (-t) $$\n",
    "- Llamo $Y2(s) = \\frac{y_0}{s+1}$:\n",
    "    - La antitransformada de Y2(s) es:\n",
    "    $$ y2(t) = y_0 \\cdot \\exp(-t) $$    "
   ]
  },
  {
   "cell_type": "markdown",
   "id": "0198b28e",
   "metadata": {},
   "source": [
    "4. Luego el resultado es la suma de y1(t) + y2(t):\n",
    "    $$ y(t) = 1 - \\exp(-t) + y_0 \\cdot \\exp(-t) = $$\n",
    "    $$ y(t) = 1 + (y_0 - 1) \\cdot \\exp(-t) $$"
   ]
  },
  {
   "cell_type": "markdown",
   "id": "f25dcf32",
   "metadata": {},
   "source": [
    "Por lo tanto la respuesta correcta es la opción 2\n",
    "> _Nota: Luego de escribir todo me di cuenta que podría resolver directamente la ecuación $Y(s) = \\frac{1 + y_0 \\cdot s}{s \\cdot (s+1)}$ por residuos, es más directo._\n",
    "---\n",
    "### Abajo una comprobación en Octave."
   ]
  },
  {
   "cell_type": "code",
   "execution_count": 30,
   "id": "c64b9c31",
   "metadata": {},
   "outputs": [
    {
     "name": "stdout",
     "output_type": "stream",
     "text": [
      "y1 = (sym)\n",
      "\n",
      "       -t\n",
      "  1 - ℯ  \n",
      "\n",
      "y2 = (sym)\n",
      "\n",
      "      -t\n",
      "  33⋅ℯ  \n",
      "\n",
      "y = (sym)\n",
      "\n",
      "          -t\n",
      "  1 + 32⋅ℯ  \n",
      "\n"
     ]
    }
   ],
   "source": [
    "pkg load symbolic\n",
    "\n",
    "syms s;\n",
    "%elijo un valor de y0 al azar\n",
    "y0 = 33;\n",
    "\n",
    "Y1 = 1/(s^2+s);\n",
    "Y2 = y0/(s+1);\n",
    "Y = Y1 + Y2;\n",
    "y1 = simplify(ilaplace(Y1))\n",
    "y2 = simplify(ilaplace(Y2))\n",
    "y = simplify(ilaplace(Y))"
   ]
  },
  {
   "attachments": {},
   "cell_type": "markdown",
   "id": "e4d3be57",
   "metadata": {},
   "source": [
    "# Ejercicio 3\n",
    "---\n",
    "### Cuando se ejecuta run en simulink, indique que grafica se obseva en el scope:\n",
    "![ejercicio1-3.png](./images/ejercicio1-3.png)"
   ]
  },
  {
   "cell_type": "markdown",
   "id": "224472c6",
   "metadata": {},
   "source": [
    "Este ejercicio es igual que el punto 1. Para resolverlo manual se debe hacer la antitransformada de la función escalón (step) multiplicada por la función transferencia.\n",
    "\n",
    "Queda así:\n",
    "    $$ Y(s) = \\frac{1}{s \\cdot (s^2-2s+2)} = $$"
   ]
  },
  {
   "cell_type": "markdown",
   "id": "b1946a2b",
   "metadata": {},
   "source": [
    "$$ Y(s) = \\frac{1}{ s \\cdot \\left[ \\left( s - 1 \\right)^2 + 1 \\right]} =$$"
   ]
  },
  {
   "cell_type": "markdown",
   "id": "ff929efc",
   "metadata": {},
   "source": [
    "1. Resuelvo por fracciones simples:\n",
    "    $$ Y(s) = \\frac{1}{ s \\cdot \\left[ \\left( s - 1 \\right)^2 + 1 \\right]} = \\frac{A}{s} + \\frac{B}{\\left( s - 1 \\right)^2 + 1} = $$"
   ]
  },
  {
   "cell_type": "markdown",
   "id": "76716116",
   "metadata": {},
   "source": [
    "- Si A = "
   ]
  },
  {
   "cell_type": "markdown",
   "id": "f207926b",
   "metadata": {},
   "source": [
    "1. Encuentro las raíces del polinomio de 2do orden para resolver por residuos:\n",
    "> _Recordatorio: Para resolver la cuadrática se utiliza la fórmula $\\frac{-b \\pm \\sqrt{b^2 - 4ac}}{2a}$, donde $a \\cdot s^2 + b \\cdot s + c = 0$._\n",
    "\n",
    "2. El resultado es:\n",
    "    $$ Y(s) = \\frac{1}{s \\cdot (s-p1) \\cdot (s-p2)} \\; con \\; p1 = 1+i \\; p2 = 1-i $$"
   ]
  },
  {
   "cell_type": "markdown",
   "id": "d1c26022",
   "metadata": {},
   "source": [
    "3. Resuelvo por residuos:\n",
    "    $$ \\left. Res \\, Y(s) \\right|_{s=0} = \\lim\\limits_{s \\to 0} \\frac{1 \\cdot s}{s \\cdot (s^2-2s+2)} = \\frac{1}{2}$$\n",
    "    $$ \\left. Res \\, Y(s) \\right|_{s=p1} = \\lim\\limits_{s \\to p1} \\frac{1 \\cdot (s-p1)}{s \\cdot (s-p1) \\cdot (s-p2))} = $$\n",
    "    $$ \\frac{1}{1+i \\cdot (1+i-(1-i)))} = \\frac{1}{-2+2i} = \\frac{-2-2i}{8} $$\n",
    "    $$ \\left. Res \\, Y(s) \\right|_{s=p2} = \\lim\\limits_{s \\to p2} \\frac{1 \\cdot (s-p2)}{s \\cdot (s-p1) \\cdot (s-p2))} = $$\n",
    "    $$ \\frac{1}{1-i \\cdot (1-i-(1+i)))} = \\frac{1}{-2-2i} = \\frac{-2+2i}{8}$$"
   ]
  },
  {
   "cell_type": "markdown",
   "id": "eeebb4b7",
   "metadata": {},
   "source": [
    "4.Antitransformada:\n",
    "    $$ \\frac{1}{2} + \\frac{-1}{4} \\cdot \\left\\{ (-1-i) \\cdot \\exp(-1-i) + (-1+i) \\cdot \\exp(-1+i) \\right\\}= $$"
   ]
  },
  {
   "cell_type": "markdown",
   "id": "4105dc61",
   "metadata": {},
   "source": [
    "$$ \\frac{1}{2} + \\frac{-1}{4} \\cdot \\left\\{ ( - \\exp(-1-i) - \\exp(-1+i) )+ i \\left[ -\\exp(-1-i) + \\exp(-1+i) \\right] \\right\\}= $$"
   ]
  },
  {
   "cell_type": "code",
   "execution_count": 36,
   "id": "ce84a7dc",
   "metadata": {},
   "outputs": [
    {
     "data": {
      "image/png": "[encoded data removed]",
      "text/plain": [
       "<IPython.core.display.Image object>"
      ]
     },
     "metadata": {},
     "output_type": "display_data"
    }
   ],
   "source": [
    "pkg load control\n",
    "s = tf('s');\n",
    "% Función transferencia\n",
    "transferFunc = 1/(s^2-2*s+2);\n",
    "% Gráfica de respuesta al escalón\n",
    "step (transferFunc,10)"
   ]
  }
 ],
 "metadata": {
  "kernelspec": {
   "display_name": "Octave",
   "language": "octave",
   "name": "octave"
  },
  "language_info": {
   "file_extension": ".m",
   "help_links": [
    {
     "text": "GNU Octave",
     "url": "https://www.gnu.org/software/octave/support.html"
    },
    {
     "text": "Octave Kernel",
     "url": "https://github.com/Calysto/octave_kernel"
    },
    {
     "text": "MetaKernel Magics",
     "url": "https://metakernel.readthedocs.io/en/latest/source/README.html"
    }
   ],
   "mimetype": "text/x-octave",
   "name": "octave",
   "version": "4.2.2"
  }
 },
 "nbformat": 4,
 "nbformat_minor": 5
}
