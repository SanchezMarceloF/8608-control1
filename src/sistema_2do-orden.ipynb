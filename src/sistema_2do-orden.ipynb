{
 "cells": [
  {
   "cell_type": "markdown",
   "id": "dc1886f4",
   "metadata": {},
   "source": [
    "# Sistema de 2do Orden\n",
    "---\n",
    "Dado el siguiente sistema:\n",
    "\n",
    "                                 +-----------------------+\n",
    "                                 |            2          | \n",
    "      R(s) (+) /¨¨¨\\    E(s)     |         w_n           |           Y(s)\n",
    "    --------->|     |----->------|   __________________  |-----*------>\n",
    "               \\__ /             |   s ( s + 2*xi*w_n )  |     |\n",
    "                 ^ (-)           +-----------------------+     |\n",
    "                 |                        G(s)                 |\n",
    "                 |                                             |\n",
    "                 +---------------------------------------------+\n",
    "\n",
    "se quiere encontrar:\n",
    "\n",
    "- La transferencia $\\frac{Y(s)}{R(s)}$\n",
    "- La respuesta al escalón.\n",
    "- tr: tiempo de rise time.\n",
    "- yp: valor del pico.\n",
    "- ts: tiempo de establecimiento"
   ]
  },
  {
   "cell_type": "markdown",
   "id": "7b96da0a",
   "metadata": {},
   "source": [
    "### Los cálculos manuales dan:\n",
    "\n",
    "  $$ \\frac{Y}{R}(s) = \\frac{G(s)}{1 + G(s)} $$\n",
    "  $$ \\frac{Y}{R}(s) = \\frac{\\omega_n^2}{s^2 + 2s \\xi \\omega_n + \\omega_n^2} $$"
   ]
  },
  {
   "cell_type": "code",
   "execution_count": 46,
   "id": "ba254fc8",
   "metadata": {},
   "outputs": [
    {
     "name": "stdout",
     "output_type": "stream",
     "text": [
      "Symbolic pkg v2.9.0: Python communication link active, SymPy v1.5.1.\n",
      "H = (sym)\n",
      "\n",
      "            2        \n",
      "          ωₙ         \n",
      "  ───────────────────\n",
      "    2               2\n",
      "  ωₙ  + 2⋅ωₙ⋅s⋅ξ + s \n",
      "\n"
     ]
    }
   ],
   "source": [
    "clc, clear all, close all\n",
    "pkg load symbolic control signal\n",
    "\n",
    "syms omega_n;\n",
    "syms xi;\n",
    "syms s\n",
    "\n",
    "% Transferencia generica\n",
    "G = (omega_n^2)/(s^2+2*xi*omega_n*s);\n",
    "H = simplify(G/(1+G))"
   ]
  },
  {
   "cell_type": "markdown",
   "id": "84b826ce",
   "metadata": {},
   "source": [
    "### Polos:\n",
    "\n",
    "$0 < \\xi < 1$:\n",
    "  $$ p_1 = - \\xi \\, \\omega_n + \\omega_n \\sqrt{1 - \\xi^2} $$\n",
    "  $$ p_2 = - \\xi \\, \\omega_n - \\omega_n \\sqrt{1 - \\xi^2} $$\n",
    "  \n",
    "definiendo $\\sigma_d = \\xi \\, \\omega_n$ ; $\\omega_d = \\omega_n \\sqrt{1 - \\xi^2}$ :\n",
    "\n",
    "  $$ p_1 = - \\sigma_d + \\omega_d $$\n",
    "  $$ p_2 = - \\sigma_d - \\omega_d $$"
   ]
  },
  {
   "cell_type": "markdown",
   "id": "c330edf9",
   "metadata": {},
   "source": [
    "### Relaciones trigonométricas:\n",
    "\n",
    "   $$ \\tan(\\beta) = \\sqrt{\\frac{1}{\\xi^2} - 1} $$\n",
    "   $$ \\cos(\\beta) = \\xi $$\n",
    "   $$ \\sin(\\beta) = \\sqrt{1 - \\xi^2} $$"
   ]
  },
  {
   "cell_type": "markdown",
   "id": "a4712240",
   "metadata": {},
   "source": [
    "### Respuesta al escalón:\n",
    "\n",
    "  $$ y(t) = 1 + \\frac{e^{-\\sigma_d t}}{\\sqrt{1 - \\xi^2}} \\sin \\left( {\\omega_d t - (\\pi - \\beta)} \\right) $$"
   ]
  },
  {
   "cell_type": "code",
   "execution_count": 59,
   "id": "a2d8f743",
   "metadata": {},
   "outputs": [
    {
     "name": "stdout",
     "output_type": "stream",
     "text": [
      "\r\n",
      "Transfer function 'H' from input 'u1' to output ...\r\n",
      "\r\n",
      "             400 s^2 + 4800 s        \r\n",
      " y1:  -------------------------------\r\n",
      "      s^4 + 24 s^3 + 544 s^2 + 4800 s\r\n",
      "\r\n",
      "Continuous-time model.\r\n"
     ]
    },
    {
     "data": {
      "image/png": "[encoded data removed]",
      "text/plain": [
       "<IPython.core.display.Image object>"
      ]
     },
     "metadata": {},
     "output_type": "display_data"
    }
   ],
   "source": [
    "%% Ahora necesito darle valores el resultado numerico\n",
    "% elijo omega_n y xi\n",
    "omega_n = 20;\n",
    "xi = 0.3;\n",
    "% definiciones\n",
    "sigma_d = xi*omega_n;\n",
    "omega_d = omega_n * sqrt( 1 - xi^2 );\n",
    "beta = acos (xi);\n",
    "\n",
    "% Defino la transferencia H\n",
    "s = tf('s');\n",
    "G = (omega_n^2)/(s^2+2*xi*omega_n*s);\n",
    "H = G/(1+G)\n",
    "\n",
    "% Grafico la respuesta al escalon\n",
    "[y_simulado, t, X] = step(H);\n",
    "y_calculado = 1 + ( e.^(-sigma_d.*t)./sqrt( 1 - xi^2 ) ) .* sin ( omega_d.*t - pi + beta );\n",
    "\n",
    "hold on\n",
    "plot(t, y_calculado)\n",
    "plot(t, y_simulado,'ro')\n",
    "title('Respuesta al escalon');\n",
    "legend('y(t) calculado', 'y(t) simulado');\n",
    "grid\n",
    "hold off"
   ]
  },
  {
   "cell_type": "markdown",
   "id": "4f20bba0",
   "metadata": {},
   "source": [
    "### tr, magnitud del pico, ts:\n",
    "\n",
    "  $$ t_r = \\frac{\\pi}{\\omega_d} $$\n",
    "magnitud del pico:\n",
    "  $$ y(t_r) = 1 + e^{-\\frac{\\pi \\xi}{ \\sqrt{1 - \\xi^2}}} $$\n",
    "  \n",
    "ts (aproximado):\n",
    "  $$ t_s = \\frac{4}{\\sigma_d} $$"
   ]
  },
  {
   "cell_type": "code",
   "execution_count": 60,
   "id": "ea44bfec",
   "metadata": {},
   "outputs": [
    {
     "name": "stdout",
     "output_type": "stream",
     "text": [
      "mag_pico_simulado =  1.3718\n",
      "mag_pico_calculado =  1.3723\n"
     ]
    }
   ],
   "source": [
    "% magnitud del pico\n",
    "[mag_pico_simulado, idx_tr] = max(y_simulado);\n",
    "mag_pico_simulado \n",
    "mag_pico_calculado = 1 + e^( ( -pi*xi)/sqrt( 1 - xi^2) )"
   ]
  },
  {
   "cell_type": "code",
   "execution_count": 61,
   "id": "343196c5",
   "metadata": {},
   "outputs": [
    {
     "name": "stdout",
     "output_type": "stream",
     "text": [
      "tr_simulado =  0.16531\n",
      "tr_calculado =  0.16466\n"
     ]
    }
   ],
   "source": [
    "% tr\n",
    "tr_simulado = t(idx_tr)\n",
    "tr_calculado = pi/omega_d"
   ]
  },
  {
   "cell_type": "code",
   "execution_count": 108,
   "id": "615afbd5",
   "metadata": {},
   "outputs": [
    {
     "name": "stdout",
     "output_type": "stream",
     "text": [
      "ts_simulado =  0.62449\n",
      "ts_calculado =  0.66667\n"
     ]
    }
   ],
   "source": [
    "%ts \n",
    "\n",
    "%Datos\n",
    "A = 1;\n",
    "tolerancia = A*0.005; % 1%\n",
    "\n",
    "% Calculo a partir del vector simulado\n",
    "t_idx = 1;\n",
    "LEN_Y = length(y_simulado);\n",
    "do\n",
    "    y_1_porc = abs(A - y_simulado(t_idx));\n",
    "    y_derivada = abs(y_simulado(t_idx+1)) - abs(y_simulado(t_idx));\n",
    "   t_idx ++;\n",
    "until( (y_1_porc < tolerancia & y_derivada < 0) | ( t_idx >= (LEN_Y - 1) ) )\n",
    "\n",
    "% Muestro el resultado\n",
    "if (t_idx < LEN_Y-2)\n",
    "    ts_simulado = t(t_idx)\n",
    "else\n",
    "    printf(\"No se encontró el ts al 1 porciento  en esta simulación \\n\")\n",
    "endif\n",
    "ts_calculado = 4/sigma_d\n",
    "    "
   ]
  }
 ],
 "metadata": {
  "kernelspec": {
   "display_name": "Octave",
   "language": "octave",
   "name": "octave"
  },
  "language_info": {
   "file_extension": ".m",
   "help_links": [
    {
     "text": "GNU Octave",
     "url": "https://www.gnu.org/software/octave/support.html"
    },
    {
     "text": "Octave Kernel",
     "url": "https://github.com/Calysto/octave_kernel"
    },
    {
     "text": "MetaKernel Magics",
     "url": "https://metakernel.readthedocs.io/en/latest/source/README.html"
    }
   ],
   "mimetype": "text/x-octave",
   "name": "octave",
   "version": "4.2.2"
  }
 },
 "nbformat": 4,
 "nbformat_minor": 5
}
