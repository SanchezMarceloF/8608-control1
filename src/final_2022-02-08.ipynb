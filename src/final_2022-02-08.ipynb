{
 "cells": [
  {
   "cell_type": "markdown",
   "id": "3f653ae4",
   "metadata": {},
   "source": [
    "# Final 08/02/2022\n",
    "---\n",
    "![final2022-02-08.png](../images/final2022-02-08.png)\n",
    "\n",
    "---"
   ]
  },
  {
   "cell_type": "markdown",
   "id": "8fbab80a",
   "metadata": {},
   "source": [
    "### Otro tema\n",
    "\n",
    "![final2022-02-08_2.jpeg](../images/final2022-02-08_2.jpeg)\n",
    "\n",
    "El ej 1 era ese cto y me pedía encontrar la transferencia donde Vi es la entrada y Vo la salida, dibujar diagrama en bloque, nombrar cuales serían las variables de estado (que en el dibujo ya estaban marcadas como x1 y x2, pero quería que pongamos que variable eléctrica era), encontrar A B C D, diagonalizar y por último comprobar la diagonalizacion\n",
    "\n",
    "---"
   ]
  },
  {
   "cell_type": "markdown",
   "id": "d4a94b99",
   "metadata": {},
   "source": [
    "### Resolución a manopla (creo que está bien):\n",
    "\n",
    "![soluc_final2022-02-08_2.jpeg](../images/soluc_final2022-02-08_2.jpeg)"
   ]
  },
  {
   "cell_type": "markdown",
   "id": "1d73d43b",
   "metadata": {},
   "source": [
    "Para resolverlo en Octave voy a calcular la transferencia para luego transformar a ecuaciones de estado.\n",
    "La verdad no se si está bien porque Octave pudo haber elegido cualquier variable de estado...debe haber una forma de comprobar eso que no conozco"
   ]
  },
  {
   "cell_type": "code",
   "execution_count": 28,
   "id": "f2e832d1",
   "metadata": {},
   "outputs": [
    {
     "name": "stdout",
     "output_type": "stream",
     "text": [
      "C =  1\n",
      "T = (sym)\n",
      "\n",
      "           1         \n",
      "  ───────────────────\n",
      "  2⋅(s + 1)⋅(2⋅s + 1)\n",
      "\n"
     ]
    }
   ],
   "source": [
    "pkg load symbolic control signal\n",
    "\n",
    "syms s;\n",
    "C = 1, R = 2;\n",
    "% primero defino unas impedancias\n",
    "\n",
    "Z1 = 1/(s*C);      %sería la impedancia de C\n",
    "Z2 = (1/(s*C)) + R;  %la impedancia de R en serie con C\n",
    "Z3 = Z1;\n",
    "Z4 = (2/(s*C)) + R;  %la impedancia de R en serie con C2 = C/2\n",
    "\n",
    "% Ahora utilizo la ecuación del amplificador inversor\n",
    "% para encontrar las 2 transferencias 'asociadas a los opamps'\n",
    "\n",
    "T1 = -Z1/Z2;\n",
    "T2 = -Z3/Z4;\n",
    "\n",
    "% Encuentro la transferencia total\n",
    "\n",
    "T = simplify(T1*T2)"
   ]
  },
  {
   "cell_type": "code",
   "execution_count": 29,
   "id": "77a19878",
   "metadata": {},
   "outputs": [
    {
     "name": "stdout",
     "output_type": "stream",
     "text": [
      "num =  1\n",
      "den =\n",
      "\n",
      "   4   6   2\n",
      "\n",
      "A =\n",
      "\n",
      "   0.00000  -0.50000\n",
      "   1.00000  -1.50000\n",
      "\n",
      "B =\n",
      "\n",
      "  -1\n",
      "   0\n",
      "\n",
      "C =\n",
      "\n",
      "   0.00000  -0.25000\n",
      "\n",
      "D = 0\n"
     ]
    }
   ],
   "source": [
    "% Ahora calculo las matrices A, B, C, D.\n",
    "\n",
    "% extraigo numerado y denominador en forma simbólica\n",
    "[num, den] = numden(T);\n",
    "% extraigo los coeficientes\n",
    "num = sym2poly(num)\n",
    "den = sym2poly(den)\n",
    "% calculo las matrices\n",
    "[A, B, C, D] = tf2ss(num, den)"
   ]
  }
 ],
 "metadata": {
  "kernelspec": {
   "display_name": "Octave",
   "language": "octave",
   "name": "octave"
  },
  "language_info": {
   "file_extension": ".m",
   "help_links": [
    {
     "text": "GNU Octave",
     "url": "https://www.gnu.org/software/octave/support.html"
    },
    {
     "text": "Octave Kernel",
     "url": "https://github.com/Calysto/octave_kernel"
    },
    {
     "text": "MetaKernel Magics",
     "url": "https://metakernel.readthedocs.io/en/latest/source/README.html"
    }
   ],
   "mimetype": "text/x-octave",
   "name": "octave",
   "version": "4.2.2"
  }
 },
 "nbformat": 4,
 "nbformat_minor": 5
}
