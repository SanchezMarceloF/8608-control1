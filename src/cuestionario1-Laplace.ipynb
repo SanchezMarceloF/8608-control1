{
 "cells": [
  {
   "cell_type": "markdown",
   "id": "5ff614ec",
   "metadata": {},
   "source": [
    "# Pregunta 1\n",
    "---\n",
    "\n",
    "![cuestionario1-1.png](../images/cuestionario1-1.png)\n",
    "\n",
    "---"
   ]
  },
  {
   "cell_type": "code",
   "execution_count": 1,
   "id": "8d01bf7e",
   "metadata": {},
   "outputs": [
    {
     "data": {
      "image/png": "[encoded data removed]",
      "text/plain": [
       "<IPython.core.display.Image object>"
      ]
     },
     "metadata": {},
     "output_type": "display_data"
    }
   ],
   "source": [
    "pkg load control\n",
    "s = tf('s');\n",
    "% Función transferencia\n",
    "transferFunc = 1/(s^2+1);\n",
    "% Gráfica de respuesta al escalón\n",
    "step (transferFunc)\n"
   ]
  },
  {
   "cell_type": "markdown",
   "id": "bb23ac43",
   "metadata": {},
   "source": [
    "La respuesta correcta es la C."
   ]
  },
  {
   "cell_type": "markdown",
   "id": "a8a50701",
   "metadata": {},
   "source": [
    "# Pregunta 2\n",
    "---\n",
    "\n",
    "![cuestionario1-2.png](../images/cuestionario1-2.png)\n",
    "\n",
    "---"
   ]
  },
  {
   "cell_type": "markdown",
   "id": "59437698",
   "metadata": {},
   "source": [
    "Para resolver este problema se puede aplicar Laplace, despejar $Y(s)$ y luego antitransformar. \n",
    "1. Aplico Laplace:\n",
    "    $$ \\mathcal{L} \\left\\{ \\dot{y(t)} + y(t) = 1 (t) \\right\\}$$\n",
    "    $$ s \\cdot Y(s) - y_0 + Y(s) = \\frac{1}{s} $$    "
   ]
  },
  {
   "cell_type": "markdown",
   "id": "f236348b",
   "metadata": {},
   "source": [
    "2. Despejo $Y(s)$:\n",
    "    $$ Y(s) \\cdot (s + 1) = \\frac{1}{s} + y_0 $$\n",
    "    $$ Y(s) = \\frac{1/s + y_0}{s + 1} $$\n",
    "    $$ Y(s) = \\frac{1}{s^2 + s} + \\frac{y_0}{s + 1} $$"
   ]
  },
  {
   "cell_type": "markdown",
   "id": "62a123b7",
   "metadata": {},
   "source": [
    "3. Antitransformo por residuos:\n",
    "\n",
    "- Llamo $Y1(s) = \\frac{1}{s^2 + s} = \\frac{1}{s \\cdot (s+1)}$\n",
    "    $$ \\left. Res \\, Y1(s) \\right|_{s=0} = \\lim\\limits_{s \\to 0} \\frac{1 \\cdot s}{s \\cdot (s+1)} = 1$$\n",
    "    $$ \\left. Res \\, Y1(s) \\right|_{s=1} = \\lim\\limits_{s \\to -1} \\frac{1 \\cdot (s+1)}{s \\cdot (s+1)} = -1$$\n",
    "    - Luego la antitransformada es:\n",
    "    $$ y1(t) = 1 \\cdot \\exp(0t) + (-)1 \\cdot \\exp(-1t) = 1 - \\exp (-t) $$\n",
    "- Llamo $Y2(s) = \\frac{y_0}{s+1}$:\n",
    "    - La antitransformada de Y2(s) es:\n",
    "    $$ y2(t) = y_0 \\cdot \\exp(-t) $$    "
   ]
  },
  {
   "cell_type": "markdown",
   "id": "0198b28e",
   "metadata": {},
   "source": [
    "4. Luego el resultado es la suma de y1(t) + y2(t):\n",
    "    $$ y(t) = 1 - \\exp(-t) + y_0 \\cdot \\exp(-t) = $$\n",
    "    $$ y(t) = 1 + (y_0 - 1) \\cdot \\exp(-t) $$"
   ]
  },
  {
   "cell_type": "markdown",
   "id": "f25dcf32",
   "metadata": {},
   "source": [
    "Por lo tanto la respuesta correcta es la opción 2\n",
    "> _Nota: Luego de escribir todo me di cuenta que podría resolver directamente la ecuación $Y(s) = \\frac{1 + y_0 \\cdot s}{s \\cdot (s+1)}$ por residuos, es más directo._\n",
    "---\n",
    "### Abajo una comprobación en Octave."
   ]
  },
  {
   "cell_type": "code",
   "execution_count": 2,
   "id": "c64b9c31",
   "metadata": {},
   "outputs": [
    {
     "name": "stdout",
     "output_type": "stream",
     "text": [
      "Symbolic pkg v2.9.0: Python communication link active, SymPy v1.5.1.\n",
      "y1 = (sym)\n",
      "\n",
      "       -t\n",
      "  1 - ℯ  \n",
      "\n",
      "y2 = (sym)\n",
      "\n",
      "      -t\n",
      "  33⋅ℯ  \n",
      "\n",
      "y = (sym)\n",
      "\n",
      "          -t\n",
      "  1 + 32⋅ℯ  \n",
      "\n"
     ]
    }
   ],
   "source": [
    "pkg load symbolic\n",
    "\n",
    "syms s;\n",
    "%elijo un valor de y0 al azar\n",
    "y0 = 33;\n",
    "\n",
    "Y1 = 1/(s^2+s);\n",
    "Y2 = y0/(s+1);\n",
    "Y = Y1 + Y2;\n",
    "y1 = simplify(ilaplace(Y1))\n",
    "y2 = simplify(ilaplace(Y2))\n",
    "y = simplify(ilaplace(Y))"
   ]
  },
  {
   "cell_type": "markdown",
   "id": "e4d3be57",
   "metadata": {},
   "source": [
    "# Pregunta 3\n",
    "---\n",
    "\n",
    "![cuestionario1-3.png](../images/cuestionario1-3.png)\n",
    "\n",
    "---"
   ]
  },
  {
   "cell_type": "markdown",
   "id": "224472c6",
   "metadata": {},
   "source": [
    "Este ejercicio es igual que el punto 1. Para resolverlo manual se debe hacer la antitransformada de la función escalón (step) multiplicada por la función transferencia.\n",
    "\n",
    "Queda así:\n",
    "    $$ Y(s) = \\frac{1}{s \\cdot (s^2-2s+2)} = $$"
   ]
  },
  {
   "cell_type": "markdown",
   "id": "b1946a2b",
   "metadata": {},
   "source": [
    "1. Escribo la función como producto de polos y ceros:\n",
    "\n",
    "    $$ Y(s) = \\frac{1}{ s \\cdot (s - p1) \\cdot (s - p2)} =$$\n",
    "donde p1 y p2 son los polos de 1er orden que debo encontrar"
   ]
  },
  {
   "cell_type": "markdown",
   "id": "f207926b",
   "metadata": {},
   "source": [
    "2. Encuentro las raíces del polinomio de 2do orden para resolver por residuos:\n",
    "> _Recordatorio: Para resolver la cuadrática se utiliza la fórmula $\\frac{-b \\pm \\sqrt{b^2 - 4ac}}{2a}$, donde $a \\cdot s^2 + b \\cdot s + c = 0$._\n",
    "\n",
    "3. El resultado es:\n",
    "    $$ Y(s) = \\frac{1}{s \\cdot (s-p1) \\cdot (s-p2)} $$\n",
    "donde $p1 = 1+i$ y $p2 = 1-i$."
   ]
  },
  {
   "cell_type": "markdown",
   "id": "d1c26022",
   "metadata": {},
   "source": [
    "4. Resuelvo por residuos:\n",
    "- Polo $s = 0$. \n",
    "    $$ \\left. Res \\, Y(s) \\right|_{s=0} = \\lim\\limits_{s \\to 0} \\frac{1 \\cdot s}{s \\cdot (s^2-2s+2)} = \\frac{1}{2}$$    "
   ]
  },
  {
   "cell_type": "markdown",
   "id": "132c8594",
   "metadata": {},
   "source": [
    "- Polo $s = 1+i$. \n",
    "$$ \\left. Res \\, Y(s) \\right|_{s=p1} = \\lim\\limits_{s \\to p1} \\frac{1 \\cdot (s-p1)}{s \\cdot (s-p1) \\cdot (s-p2))} = $$\n",
    "\n",
    "$$ \\frac{1}{1+i \\cdot (1+i-(1-i)))} = \\frac{1}{-2+2i} = $$\n",
    "\n",
    "$$ = ...... = \\frac{-1-i}{4} $$"
   ]
  },
  {
   "cell_type": "markdown",
   "id": "a26c71ec",
   "metadata": {},
   "source": [
    "- Polo $s = 1-i$.\n",
    "$$ \\left. Res \\, Y(s) \\right|_{s=p2} = \\lim\\limits_{s \\to p2} \\frac{1 \\cdot (s-p2)}{s \\cdot (s-p1) \\cdot (s-p2))} = $$\n",
    "\n",
    "$$ \\frac{1}{1-i \\cdot (1-i-(1+i)))} = \\frac{1}{-2-2i} = $$\n",
    "\n",
    "$$ = ..... = \\frac{-1+i}{4} $$"
   ]
  },
  {
   "cell_type": "markdown",
   "id": "eeebb4b7",
   "metadata": {},
   "source": [
    "4.Antitransformada:\n",
    "    $$ \\frac{1}{2} + \\frac{-1}{4} \\cdot \\left\\{ (-1-i) \\cdot e^{(-1-i)t} + (-1+i) \\cdot e^{(-1+i)t} \\right\\}= $$"
   ]
  },
  {
   "cell_type": "markdown",
   "id": "4105dc61",
   "metadata": {},
   "source": [
    "Despejando y agrupando se llega a esta expresión:\n",
    "\n",
    "$$ y (t) = \\frac{1}{2} + \\frac{-1}{2} \\, e^t \\, \\left[ \\cos(t) - \\sin(t) \\right]= $$\n",
    "\n",
    "que equivale a (también se puede obtener de la ecuación anterior):\n",
    "\n",
    "$$ y(t) = \\frac{1}{2} + \\frac{-\\sqrt{2}}{2} \\, e^t \\, \\cos(t + \\frac{\\pi}{4})= $$"
   ]
  },
  {
   "cell_type": "markdown",
   "id": "8e8172fa",
   "metadata": {},
   "source": [
    "Luego para verificar el resultado calculo algunos puntos con la calculadora y grafico:\n",
    "\n",
    "| t | y(t) |\n",
    "|---|------|\n",
    "| 0 | -0,2 |\n",
    "| 2 |  7,4 |\n",
    "| 4 | -3,5 |\n",
    "| 6 | -353 |\n",
    "| 7 | -74  |\n",
    "| 8 | 2392 |\n",
    "| 10| 4595 |\n",
    "\n",
    "```La respuesta correcta es la d.```\n",
    "\n",
    "---\n",
    "### Abajo se corrobora con Octave\n",
    "---"
   ]
  },
  {
   "cell_type": "code",
   "execution_count": 3,
   "id": "ce84a7dc",
   "metadata": {},
   "outputs": [
    {
     "name": "stdout",
     "output_type": "stream",
     "text": [
      "y = (sym)\r\n",
      "\r\n",
      "        t    ⎛    π⎞    \r\n",
      "    √2⋅ℯ ⋅cos⎜t + ─⎟    \r\n",
      "             ⎝    4⎠   1\r\n",
      "  - ──────────────── + ─\r\n",
      "           2           2\r\n",
      "\r\n"
     ]
    }
   ],
   "source": [
    "pkg load control symbolic\n",
    "% Calculo simbolico para verificar las cuentas\n",
    "syms s;\n",
    "Y = 1/(s*(s^2-2*s+2));\n",
    "y = simplify(ilaplace(Y))\n",
    "\n",
    "% Obtención del grafico para constatar respuesta\n",
    "s = tf('s');\n",
    "% Función transferencia\n",
    "transferFunc = 1/(s^2-2*s+2);\n",
    "% Gráfica de respuesta al escalón\n",
    "[y1,t,X]=step (transferFunc,10);"
   ]
  },
  {
   "cell_type": "code",
   "execution_count": 4,
   "id": "7b37a6cf",
   "metadata": {},
   "outputs": [
    {
     "data": {
      "image/png": "[encoded data removed]",
      "text/plain": [
       "<IPython.core.display.Image object>"
      ]
     },
     "metadata": {},
     "output_type": "display_data"
    }
   ],
   "source": [
    "%Grafico junto a mi resultado para comparar\n",
    "y2 = 0.5.*(1-(e.^t).*(cos(t)-sin(t))); %Resultado obtenido por metodo de los residuos\n",
    "hold on\n",
    "plot(t,y1)\n",
    "plot(t,y2,\"om\")\n",
    "legend(\"Obtenido con funcion 'tf + step' \",\"Calculado manualmente\")\n",
    "grid\n",
    "hold off"
   ]
  },
  {
   "cell_type": "markdown",
   "id": "7fbed2ff",
   "metadata": {},
   "source": [
    "# Pregunta 4\n",
    "---\n",
    "\n",
    "![cuestionario1-4.png](../images/cuestionario1-4.png)\n",
    "\n",
    "---"
   ]
  },
  {
   "cell_type": "markdown",
   "id": "afedd719",
   "metadata": {},
   "source": [
    "Acá se presenta un problema similar a los anteriores donde se puede transformar la ecuación diferencial por Laplace y resolver."
   ]
  },
  {
   "cell_type": "markdown",
   "id": "1c8d6594",
   "metadata": {},
   "source": [
    "1 - Aplico Laplace:\n",
    "    $$ \\mathcal{L} \\left\\{ M \\, \\ddot{x} + B \\, \\dot{x} = 1(t) \\right\\} $$ \n",
    "    $$ M s^2 X(s) + B s X(s) = \\frac{1}{s} $$\n",
    "    $$ X(s) \\left( M s^2 + B s \\right) = \\frac{1}{s} $$\n",
    "    $$ X(s) = \\frac{1}{s \\left( M s^2 + B s \\right)} $$\n",
    "    $$ X(s) = \\frac{1}{s^2 \\left( M s + B \\right)} $$"
   ]
  },
  {
   "cell_type": "markdown",
   "id": "417d25dd",
   "metadata": {},
   "source": [
    "No se como resolverlo pero en los apuntes de la teorica (clase 03) indica que es inestable. El segundo polo en el origen que aparece al resolver la ecuación diferencial es por la entrada del escalón. O sea, $X(s) = 1/s$ en las capturas de abajo.\n",
    "\n",
    "![solución-pto4-1.png](../images/soluc1-4_1.png)\n",
    "![solución-pto4-2.png](../images/soluc1-4_2.png)"
   ]
  },
  {
   "cell_type": "markdown",
   "id": "027dbbec",
   "metadata": {},
   "source": [
    "Acá intenté una implementación en Octave y el resultado es similar. Quizás los valores de M y B deberían ser otros..."
   ]
  },
  {
   "cell_type": "code",
   "execution_count": 10,
   "id": "4410c0cb",
   "metadata": {},
   "outputs": [
    {
     "name": "stdout",
     "output_type": "stream",
     "text": [
      "y = (sym)\n",
      "\n",
      "            -t           \n",
      "            ───          \n",
      "             20  2       \n",
      "           ℯ   ⋅Γ (-1/20)\n",
      "  t - 20 + ──────────────\n",
      "                 2⎛19⎞   \n",
      "             20⋅Γ ⎜──⎟   \n",
      "                  ⎝20⎠   \n",
      "\n",
      "polos = (sym 2×1 matrix)\n",
      "\n",
      "  ⎡-1/20⎤\n",
      "  ⎢     ⎥\n",
      "  ⎣  0  ⎦\n",
      "\n",
      "xmin = 0\n",
      "xmax =  10\n",
      "ymin = -5\n"
     ]
    },
    {
     "data": {
      "image/png": "[encoded data removed]",
      "text/plain": [
       "<IPython.core.display.Image object>"
      ]
     },
     "metadata": {},
     "output_type": "display_data"
    }
   ],
   "source": [
    "syms s;\n",
    "\n",
    "%Elijo 2 valores de M y B\n",
    "M = 20;\n",
    "B = 1;\n",
    "\n",
    "X = 1/s;\n",
    "H = 1/(M*s^2+B*s);\n",
    "Y = H*X;\n",
    "\n",
    "% antitransformada\n",
    "y = ilaplace(Y)\n",
    "%obtengo los polos\n",
    "[num den] = numden(Y);\n",
    "polos = solve(den)\n",
    "%grafico\n",
    "xmin = 0, xmax = 10, ymin = -5, ymax = 5;\n",
    "ezplot(y,[xmin xmax ymin ymax])"
   ]
  },
  {
   "cell_type": "markdown",
   "id": "5ab6f3ba",
   "metadata": {},
   "source": [
    "# Pregunta 5\n",
    "---\n",
    "\n",
    "![cuestionario1-5.png](../images/cuestionario1-5.png)\n",
    "\n",
    "---"
   ]
  },
  {
   "cell_type": "markdown",
   "id": "7951e438",
   "metadata": {},
   "source": [
    "Al igual que los ejercicios anteriores aplico Laplace y resuelvo por el método de los residuos.\n",
    "1. Laplace:    \n",
    "    $$ Y(s) = \\frac{32}{s \\left( s^2 + 12s + 32 \\right)} $$\n",
    "    Polos: $0, -4, -8$.\n",
    "\n",
    "2. Residuos: \n",
    "    $$ Res Y(s)|_{s=0} = ... = 1 $$\n",
    "    $$ Res Y(s)|_{s=-4} = ... = -2 $$\n",
    "    $$ Res Y(s)|_{s=-8} = ... = 1 $$\n",
    "    \n",
    "3. Resultado:\n",
    "    $$ y(t) = (1 - 2e^{-4t} + e^{-8t}) u(t) $$\n",
    "    \n",
    "El ítem 4 es el correcto.\n",
    "    "
   ]
  }
 ],
 "metadata": {
  "kernelspec": {
   "display_name": "Octave",
   "language": "octave",
   "name": "octave"
  },
  "language_info": {
   "file_extension": ".m",
   "help_links": [
    {
     "text": "GNU Octave",
     "url": "https://www.gnu.org/software/octave/support.html"
    },
    {
     "text": "Octave Kernel",
     "url": "https://github.com/Calysto/octave_kernel"
    },
    {
     "text": "MetaKernel Magics",
     "url": "https://metakernel.readthedocs.io/en/latest/source/README.html"
    }
   ],
   "mimetype": "text/x-octave",
   "name": "octave",
   "version": "4.2.2"
  }
 },
 "nbformat": 4,
 "nbformat_minor": 5
}
