{
 "cells": [
  {
   "cell_type": "markdown",
   "id": "5ff614ec",
   "metadata": {},
   "source": [
    "# Pregunta 1\n",
    "---\n",
    "### Cuando ejecuta run en simulink , indique que grafica se ve en el scope\n",
    "![ejercicio1-1.png](../images/ejercicio1-1.png)"
   ]
  },
  {
   "cell_type": "code",
   "execution_count": 1,
   "id": "8d01bf7e",
   "metadata": {},
   "outputs": [
    {
     "data": {
      "image/png": "[encoded data removed]",
      "text/plain": [
       "<IPython.core.display.Image object>"
      ]
     },
     "metadata": {},
     "output_type": "display_data"
    }
   ],
   "source": [
    "pkg load control\n",
    "s = tf('s');\n",
    "% Función transferencia\n",
    "transferFunc = 1/(s^2+1);\n",
    "% Gráfica de respuesta al escalón\n",
    "step (transferFunc)\n"
   ]
  },
  {
   "cell_type": "markdown",
   "id": "bb23ac43",
   "metadata": {},
   "source": [
    "La respuesta correcta es la C."
   ]
  },
  {
   "cell_type": "markdown",
   "id": "a8a50701",
   "metadata": {},
   "source": [
    "# Pregunta 2\n",
    "---\n",
    "### Un circuito R L serie , ambos unitarios , es excitado por un escalón de tensión unitario. Se sabe que en 0+ la corriente es yo. El modelo eléctrico es descripto por la ecuación diferencial mostrada donde y(t) es la corriente\n",
    "$$ \\dot{y(t)} + y(t) = 1 (t), \\quad \\quad  y(0+) = y_0 $$\n",
    "\n",
    "### Indique que $y(t)$ resuelve la ecuación diferencial:\n",
    "\n",
    "1. [ ] $y(t) = 1 + (y_0 + 1) \\cdot \\exp(-t)$\n",
    "2. [x] $y(t) = 1 + (y_0 - 1) \\cdot \\exp(-t)$\n",
    "3. [ ] $y(t) = (y_0 - 1) \\cdot \\exp(-t)$\n",
    "4. [ ] $y(t) = (y_0 + 1) \\cdot \\exp(-t)$"
   ]
  },
  {
   "cell_type": "markdown",
   "id": "59437698",
   "metadata": {},
   "source": [
    "Para resolver este problema se puede aplicar Laplace, despejar $Y(s)$ y luego antitransformar. \n",
    "1. Aplico Laplace:\n",
    "    $$ \\mathcal{L} \\left\\{ \\dot{y(t)} + y(t) = 1 (t) \\right\\}$$\n",
    "    $$ s \\cdot Y(s) - y_0 + Y(s) = \\frac{1}{s} $$    "
   ]
  },
  {
   "cell_type": "markdown",
   "id": "f236348b",
   "metadata": {},
   "source": [
    "2. Despejo $Y(s)$:\n",
    "    $$ Y(s) \\cdot (s + 1) = \\frac{1}{s} + y_0 $$\n",
    "    $$ Y(s) = \\frac{1/s + y_0}{s + 1} $$\n",
    "    $$ Y(s) = \\frac{1}{s^2 + s} + \\frac{y_0}{s + 1} $$"
   ]
  },
  {
   "cell_type": "markdown",
   "id": "62a123b7",
   "metadata": {},
   "source": [
    "3. Antitransformo por residuos:\n",
    "\n",
    "- Llamo $Y1(s) = \\frac{1}{s^2 + s} = \\frac{1}{s \\cdot (s+1)}$\n",
    "    $$ \\left. Res \\, Y1(s) \\right|_{s=0} = \\lim\\limits_{s \\to 0} \\frac{1 \\cdot s}{s \\cdot (s+1)} = 1$$\n",
    "    $$ \\left. Res \\, Y1(s) \\right|_{s=1} = \\lim\\limits_{s \\to -1} \\frac{1 \\cdot (s+1)}{s \\cdot (s+1)} = -1$$\n",
    "    - Luego la antitransformada es:\n",
    "    $$ y1(t) = 1 \\cdot \\exp(0t) + (-)1 \\cdot \\exp(-1t) = 1 - \\exp (-t) $$\n",
    "- Llamo $Y2(s) = \\frac{y_0}{s+1}$:\n",
    "    - La antitransformada de Y2(s) es:\n",
    "    $$ y2(t) = y_0 \\cdot \\exp(-t) $$    "
   ]
  },
  {
   "cell_type": "markdown",
   "id": "0198b28e",
   "metadata": {},
   "source": [
    "4. Luego el resultado es la suma de y1(t) + y2(t):\n",
    "    $$ y(t) = 1 - \\exp(-t) + y_0 \\cdot \\exp(-t) = $$\n",
    "    $$ y(t) = 1 + (y_0 - 1) \\cdot \\exp(-t) $$"
   ]
  },
  {
   "cell_type": "markdown",
   "id": "f25dcf32",
   "metadata": {},
   "source": [
    "Por lo tanto la respuesta correcta es la opción 2\n",
    "> _Nota: Luego de escribir todo me di cuenta que podría resolver directamente la ecuación $Y(s) = \\frac{1 + y_0 \\cdot s}{s \\cdot (s+1)}$ por residuos, es más directo._\n",
    "---\n",
    "### Abajo una comprobación en Octave."
   ]
  },
  {
   "cell_type": "code",
   "execution_count": 2,
   "id": "c64b9c31",
   "metadata": {},
   "outputs": [
    {
     "name": "stdout",
     "output_type": "stream",
     "text": [
      "Symbolic pkg v2.9.0: Python communication link active, SymPy v1.5.1.\n",
      "y1 = (sym)\n",
      "\n",
      "       -t\n",
      "  1 - ℯ  \n",
      "\n",
      "y2 = (sym)\n",
      "\n",
      "      -t\n",
      "  33⋅ℯ  \n",
      "\n",
      "y = (sym)\n",
      "\n",
      "          -t\n",
      "  1 + 32⋅ℯ  \n",
      "\n"
     ]
    }
   ],
   "source": [
    "pkg load symbolic\n",
    "\n",
    "syms s;\n",
    "%elijo un valor de y0 al azar\n",
    "y0 = 33;\n",
    "\n",
    "Y1 = 1/(s^2+s);\n",
    "Y2 = y0/(s+1);\n",
    "Y = Y1 + Y2;\n",
    "y1 = simplify(ilaplace(Y1))\n",
    "y2 = simplify(ilaplace(Y2))\n",
    "y = simplify(ilaplace(Y))"
   ]
  },
  {
   "cell_type": "markdown",
   "id": "e4d3be57",
   "metadata": {},
   "source": [
    "# Ejercicio 3\n",
    "---\n",
    "### Cuando se ejecuta run en simulink, indique que grafica se obseva en el scope:\n",
    "![ejercicio1-3.png](../images/ejercicio1-3.png)"
   ]
  },
  {
   "cell_type": "markdown",
   "id": "224472c6",
   "metadata": {},
   "source": [
    "Este ejercicio es igual que el punto 1. Para resolverlo manual se debe hacer la antitransformada de la función escalón (step) multiplicada por la función transferencia.\n",
    "\n",
    "Queda así:\n",
    "    $$ Y(s) = \\frac{1}{s \\cdot (s^2-2s+2)} = $$"
   ]
  },
  {
   "cell_type": "markdown",
   "id": "b1946a2b",
   "metadata": {},
   "source": [
    "1. Escribo la función como producto de polos y ceros:\n",
    "\n",
    "    $$ Y(s) = \\frac{1}{ s \\cdot (s - p1) \\cdot (s - p2)} =$$\n",
    "donde p1 y p2 son los polos de 1er orden que debo encontrar"
   ]
  },
  {
   "cell_type": "markdown",
   "id": "f207926b",
   "metadata": {},
   "source": [
    "2. Encuentro las raíces del polinomio de 2do orden para resolver por residuos:\n",
    "> _Recordatorio: Para resolver la cuadrática se utiliza la fórmula $\\frac{-b \\pm \\sqrt{b^2 - 4ac}}{2a}$, donde $a \\cdot s^2 + b \\cdot s + c = 0$._\n",
    "\n",
    "3. El resultado es:\n",
    "    $$ Y(s) = \\frac{1}{s \\cdot (s-p1) \\cdot (s-p2)} $$\n",
    "donde $p1 = 1+i$ y $p2 = 1-i$."
   ]
  },
  {
   "cell_type": "markdown",
   "id": "d1c26022",
   "metadata": {},
   "source": [
    "4. Resuelvo por residuos:\n",
    "- Polo $s = 0$. \n",
    "    $$ \\left. Res \\, Y(s) \\right|_{s=0} = \\lim\\limits_{s \\to 0} \\frac{1 \\cdot s}{s \\cdot (s^2-2s+2)} = \\frac{1}{2}$$    "
   ]
  },
  {
   "cell_type": "markdown",
   "id": "08b64729",
   "metadata": {},
   "source": [
    "- Polo $s = 1+i$. \n",
    "$$ \\left. Res \\, Y(s) \\right|_{s=p1} = \\lim\\limits_{s \\to p1} \\frac{1 \\cdot (s-p1)}{s \\cdot (s-p1) \\cdot (s-p2))} = $$\n",
    "\n",
    "$$ \\frac{1}{1+i \\cdot (1+i-(1-i)))} = \\frac{1}{-2+2i} = $$\n",
    "\n",
    "$$ = ...... = \\frac{-1-i}{4} $$"
   ]
  },
  {
   "cell_type": "markdown",
   "id": "a60b295d",
   "metadata": {},
   "source": [
    "- Polo $s = 1-i$.\n",
    "$$ \\left. Res \\, Y(s) \\right|_{s=p2} = \\lim\\limits_{s \\to p2} \\frac{1 \\cdot (s-p2)}{s \\cdot (s-p1) \\cdot (s-p2))} = $$\n",
    "\n",
    "$$ \\frac{1}{1-i \\cdot (1-i-(1+i)))} = \\frac{1}{-2-2i} = $$\n",
    "\n",
    "$$ = ..... = \\frac{-1+i}{4} $$"
   ]
  },
  {
   "cell_type": "markdown",
   "id": "eeebb4b7",
   "metadata": {},
   "source": [
    "4.Antitransformada:\n",
    "    $$ \\frac{1}{2} + \\frac{-1}{4} \\cdot \\left\\{ (-1-i) \\cdot e^{(-1-i)t} + (-1+i) \\cdot e^{(-1+i)t} \\right\\}= $$"
   ]
  },
  {
   "cell_type": "markdown",
   "id": "4105dc61",
   "metadata": {},
   "source": [
    "Despejando y agrupando se llega a esta expresión:\n",
    "\n",
    "$$ y (t) = \\frac{1}{2} + \\frac{-1}{2} \\, e^t \\, \\left[ \\cos(t) - \\sin(t) \\right]= $$\n",
    "\n",
    "que equivale a (también se puede obtener de la ecuación anterior):\n",
    "\n",
    "$$ y(t) = \\frac{1}{2} + \\frac{-\\sqrt{2}}{2} \\, e^t \\, \\cos(t + \\frac{\\pi}{4})= $$"
   ]
  },
  {
   "cell_type": "markdown",
   "id": "b1c9dba3",
   "metadata": {},
   "source": [
    "Luego para verificar el resultado calculo algunos puntos con la calculadora y grafico:\n",
    "\n",
    "| t | y(t) |\n",
    "|---|------|\n",
    "| 0 | -0,2 |\n",
    "| 2 |  7,4 |\n",
    "| 4 | -3,5 |\n",
    "| 6 | -353 |\n",
    "| 7 | -74  |\n",
    "| 8 | 2392 |\n",
    "| 10| 4595 |\n",
    "\n",
    "```La respuesta correcta es la d.```\n",
    "\n",
    "---\n",
    "### Abajo se corrobora con Octave\n",
    "---"
   ]
  },
  {
   "cell_type": "code",
   "execution_count": 33,
   "id": "ce84a7dc",
   "metadata": {},
   "outputs": [
    {
     "name": "stdout",
     "output_type": "stream",
     "text": [
      "y = (sym)\r\n",
      "\r\n",
      "        t    ⎛    π⎞    \r\n",
      "    √2⋅ℯ ⋅cos⎜t + ─⎟    \r\n",
      "             ⎝    4⎠   1\r\n",
      "  - ──────────────── + ─\r\n",
      "           2           2\r\n",
      "\r\n"
     ]
    }
   ],
   "source": [
    "pkg load control symbolic\n",
    "% Calculo simbolico para verificar las cuentas\n",
    "syms s;\n",
    "Y = 1/(s*(s^2-2*s+2));\n",
    "y = simplify(ilaplace(Y))\n",
    "\n",
    "% Obtención del grafico para constatar respuesta\n",
    "s = tf('s');\n",
    "% Función transferencia\n",
    "transferFunc = 1/(s^2-2*s+2);\n",
    "% Gráfica de respuesta al escalón\n",
    "[y1,t,X]=step (transferFunc,10);"
   ]
  },
  {
   "cell_type": "code",
   "execution_count": 34,
   "id": "ebc684b5",
   "metadata": {},
   "outputs": [
    {
     "data": {
      "image/png": "[encoded data removed]",
      "text/plain": [
       "<IPython.core.display.Image object>"
      ]
     },
     "metadata": {},
     "output_type": "display_data"
    }
   ],
   "source": [
    "%Grafico junto a mi resultado para comparar\n",
    "y2 = 0.5.*(1-(e.^t).*(cos(t)-sin(t))); %Resultado obtenido por metodo de los residuos\n",
    "hold on\n",
    "plot(t,y1)\n",
    "plot(t,y2,\"om\")\n",
    "legend(\"Obtenido con funcion 'tf + step' \",\"Calculado manualmente\")\n",
    "grid\n",
    "hold off"
   ]
  },
  {
   "cell_type": "code",
   "execution_count": 27,
   "id": "b127bf89",
   "metadata": {},
   "outputs": [
    {
     "name": "stdout",
     "output_type": "stream",
     "text": [
      "'plot' is a function from the file /usr/share/octave/4.2.2/m/plot/draw/plot.m\r\n",
      "\r\n",
      " -- plot (Y)\r\n",
      " -- plot (X, Y)\r\n",
      " -- plot (X, Y, FMT)\r\n",
      " -- plot (..., PROPERTY, VALUE, ...)\r\n",
      " -- plot (X1, Y1, ..., XN, YN)\r\n",
      " -- plot (HAX, ...)\r\n",
      " -- H = plot (...)\r\n",
      "     Produce 2-D plots.\r\n",
      "\r\n",
      "     Many different combinations of arguments are possible.  The\r\n",
      "     simplest form is\r\n",
      "\r\n",
      "          plot (Y)\r\n",
      "\r\n",
      "     where the argument is taken as the set of Y coordinates and the X\r\n",
      "     coordinates are taken to be the range '1:numel (Y)'.\r\n",
      "\r\n",
      "     If more than one argument is given, they are interpreted as\r\n",
      "\r\n",
      "          plot (Y, PROPERTY, VALUE, ...)\r\n",
      "\r\n",
      "     or\r\n",
      "\r\n",
      "          plot (X, Y, PROPERTY, VALUE, ...)\r\n",
      "\r\n",
      "     or\r\n",
      "\r\n",
      "          plot (X, Y, FMT, ...)\r\n",
      "\r\n",
      "     and so on.  Any number of argument sets may appear.  The X and Y\r\n",
      "     values are interpreted as follows:\r\n",
      "\r\n",
      "        * If a single data argument is supplied, it is taken as the set\r\n",
      "          of Y coordinates and the X coordinates are taken to be the\r\n",
      "          indices of the elements, starting with 1.\r\n",
      "\r\n",
      "        * If X and Y are scalars, a single point is plotted.\r\n",
      "\r\n",
      "        * 'squeeze()' is applied to arguments with more than two\r\n",
      "          dimensions, but no more than two singleton dimensions.\r\n",
      "\r\n",
      "        * If both arguments are vectors, the elements of Y are plotted\r\n",
      "          versus the elements of X.\r\n",
      "\r\n",
      "        * If X is a vector and Y is a matrix, then the columns (or rows)\r\n",
      "          of Y are plotted versus X.  (using whichever combination\r\n",
      "          matches, with columns tried first.)\r\n",
      "\r\n",
      "        * If the X is a matrix and Y is a vector, Y is plotted versus\r\n",
      "          the columns (or rows) of X.  (using whichever combination\r\n",
      "          matches, with columns tried first.)\r\n",
      "\r\n",
      "        * If both arguments are matrices, the columns of Y are plotted\r\n",
      "          versus the columns of X.  In this case, both matrices must\r\n",
      "          have the same number of rows and columns and no attempt is\r\n",
      "          made to transpose the arguments to make the number of rows\r\n",
      "          match.\r\n",
      "\r\n",
      "     Multiple property-value pairs may be specified, but they must\r\n",
      "     appear in pairs.  These arguments are applied to the line objects\r\n",
      "     drawn by 'plot'.  Useful properties to modify are \"linestyle\",\r\n",
      "     \"linewidth\", \"color\", \"marker\", \"markersize\", \"markeredgecolor\",\r\n",
      "     \"markerfacecolor\".  *Note Line Properties::.\r\n",
      "\r\n",
      "     The FMT format argument can also be used to control the plot style.\r\n",
      "     It is a string composed of four optional parts:\r\n",
      "     \"<linestyle><marker><color><;displayname;>\".  When a marker is\r\n",
      "     specified, but no linestyle, only the markers are plotted.\r\n",
      "     Similarly, if a linestyle is specified, but no marker, then only\r\n",
      "     lines are drawn.  If both are specified then lines and markers will\r\n",
      "     be plotted.  If no FMT and no PROPERTY/VALUE pairs are given, then\r\n",
      "     the default plot style is solid lines with no markers and the color\r\n",
      "     determined by the \"colororder\" property of the current axes.\r\n",
      "\r\n",
      "     Format arguments:\r\n",
      "\r\n",
      "     linestyle\r\n",
      "\r\n",
      "          '-'  Use solid lines (default).\r\n",
      "          '--' Use dashed lines.\r\n",
      "          ':'  Use dotted lines.\r\n",
      "          '-.' Use dash-dotted lines.\r\n",
      "\r\n",
      "     marker\r\n",
      "\r\n",
      "          '+'  crosshair\r\n",
      "          'o'  circle\r\n",
      "          '*'  star\r\n",
      "          '.'  point\r\n",
      "          'x'  cross\r\n",
      "          's'  square\r\n",
      "          'd'  diamond\r\n",
      "          '^'  upward-facing triangle\r\n",
      "          'v'  downward-facing triangle\r\n",
      "          '>'  right-facing triangle\r\n",
      "          '<'  left-facing triangle\r\n",
      "          'p'  pentagram\r\n",
      "          'h'  hexagram\r\n",
      "\r\n",
      "     color\r\n",
      "\r\n",
      "          'k'  blacK\r\n",
      "          'r'  Red\r\n",
      "          'g'  Green\r\n",
      "          'b'  Blue\r\n",
      "          'y'  Yellow\r\n",
      "          'm'  Magenta\r\n",
      "          'c'  Cyan\r\n",
      "          'w'  White\r\n",
      "\r\n",
      "     \";displayname;\"\r\n",
      "          Here \"displayname\" is the label to use for the plot legend.\r\n",
      "\r\n",
      "     The FMT argument may also be used to assign legend labels.  To do\r\n",
      "     so, include the desired label between semicolons after the\r\n",
      "     formatting sequence described above, e.g., \"+b;Key Title;\".  Note\r\n",
      "     that the last semicolon is required and Octave will generate an\r\n",
      "     error if it is left out.\r\n",
      "\r\n",
      "     Here are some plot examples:\r\n",
      "\r\n",
      "          plot (x, y, \"or\", x, y2, x, y3, \"m\", x, y4, \"+\")\r\n",
      "\r\n",
      "     This command will plot 'y' with red circles, 'y2' with solid lines,\r\n",
      "     'y3' with solid magenta lines, and 'y4' with points displayed as\r\n",
      "     '+'.\r\n",
      "\r\n",
      "          plot (b, \"*\", \"markersize\", 10)\r\n",
      "\r\n",
      "     This command will plot the data in the variable 'b', with points\r\n",
      "     displayed as '*' and a marker size of 10.\r\n",
      "\r\n",
      "          t = 0:0.1:6.3;\r\n",
      "          plot (t, cos(t), \"-;cos(t);\", t, sin(t), \"-b;sin(t);\");\r\n",
      "\r\n",
      "     This will plot the cosine and sine functions and label them\r\n",
      "     accordingly in the legend.\r\n",
      "\r\n",
      "     If the first argument HAX is an axes handle, then plot into this\r\n",
      "     axes, rather than the current axes returned by 'gca'.\r\n",
      "\r\n",
      "     The optional return value H is a vector of graphics handles to the\r\n",
      "     created line objects.\r\n",
      "\r\n",
      "     To save a plot, in one of several image formats such as PostScript\r\n",
      "     or PNG, use the 'print' command.\r\n",
      "\r\n",
      "     See also: axis, box, grid, hold, legend, title, xlabel, ylabel,\r\n",
      "     xlim, ylim, ezplot, errorbar, fplot, line, plot3, polar, loglog,\r\n",
      "     semilogx, semilogy, subplot.\r\n",
      "\r\n",
      "Additional help for built-in functions and operators is\r\n",
      "available in the online version of the manual.  Use the command\r\n",
      "'doc <topic>' to search the manual index.\r\n",
      "\r\n",
      "Help and information about Octave is also available on the WWW\r\n",
      "at http://www.octave.org and via the help@octave.org\r\n",
      "mailing list.\r\n"
     ]
    }
   ],
   "source": [
    "help plot"
   ]
  },
  {
   "cell_type": "code",
   "execution_count": null,
   "id": "7fd4466a",
   "metadata": {},
   "outputs": [],
   "source": []
  }
 ],
 "metadata": {
  "kernelspec": {
   "display_name": "Octave",
   "language": "octave",
   "name": "octave"
  },
  "language_info": {
   "file_extension": ".m",
   "help_links": [
    {
     "text": "GNU Octave",
     "url": "https://www.gnu.org/software/octave/support.html"
    },
    {
     "text": "Octave Kernel",
     "url": "https://github.com/Calysto/octave_kernel"
    },
    {
     "text": "MetaKernel Magics",
     "url": "https://metakernel.readthedocs.io/en/latest/source/README.html"
    }
   ],
   "mimetype": "text/x-octave",
   "name": "octave",
   "version": "4.2.2"
  }
 },
 "nbformat": 4,
 "nbformat_minor": 5
}
